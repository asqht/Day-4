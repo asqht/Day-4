{
  "cells": [
    {
      "cell_type": "markdown",
      "metadata": {
        "id": "E9Y5ss1ZYj3r"
      },
      "source": [
        "# Python_Lab_2.2\n"
      ]
    },
    {
      "cell_type": "markdown",
      "metadata": {
        "id": "Q1kAqc72Yj3t"
      },
      "source": [
        "### Task 1\n",
        "1. Write a program that prompts the user to enter two numbers and prints their division. Handle cases where the user enters non-numeric values or attempts to divide by zero using a try-except block.\n"
      ]
    },
    {
      "cell_type": "code",
      "execution_count": 3,
      "metadata": {
        "id": "H-xyoRTVYj3t",
        "colab": {
          "base_uri": "https://localhost:8080/"
        },
        "outputId": "37827721-407a-4f6c-d8c7-258b3df6ed5a"
      },
      "outputs": [
        {
          "output_type": "stream",
          "name": "stdout",
          "text": [
            "First number: 14\n",
            "Second number: 0\n",
            "Error: Division by zero is not allowed.\n"
          ]
        }
      ],
      "source": [
        "def divide_numbers():\n",
        "    try:\n",
        "        num1 = float(input(\"First number: \"))\n",
        "        num2 = float(input(\"Second number: \"))\n",
        "\n",
        "        result = num1 / num2\n",
        "        print(f\"The division result of {num1} by {num2} is: {result}\")\n",
        "\n",
        "    except ValueError:\n",
        "        print(\"Error: Please enter numeric values only.\")\n",
        "    except ZeroDivisionError:\n",
        "        print(\"Error: Division by zero is not allowed.\")\n",
        "\n",
        "divide_numbers()"
      ]
    },
    {
      "cell_type": "markdown",
      "metadata": {
        "id": "CPWcDSC_Yj3u"
      },
      "source": [
        "### Task 2\n",
        "- Use \"Random\" library to do the following:\n",
        "    1. Create a list of random numbers using list comprehension.\n",
        "    2. Create a list of squares of the even numbers from random numbers using list comprehension.\n",
        "    3. Create a list of tuples (number, square) for random numbers using list comprehension."
      ]
    },
    {
      "cell_type": "code",
      "execution_count": 10,
      "metadata": {
        "id": "Yfq-i6CeYj3u",
        "colab": {
          "base_uri": "https://localhost:8080/"
        },
        "outputId": "e3a8567a-623c-4983-a50c-a040ce4d4dc2"
      },
      "outputs": [
        {
          "output_type": "stream",
          "name": "stdout",
          "text": [
            "Random Numbers: [7, 8, 14, 6]\n",
            "Squares of Even Numbers: [64, 196, 36]\n",
            "Number-Square Tuples: [(7, 49), (8, 64), (14, 196), (6, 36)]\n"
          ]
        }
      ],
      "source": [
        "import random\n",
        "\n",
        "random_numbers =[random.randint(1, 20) for _ in range(4)]\n",
        "\n",
        "even_squares = [num**2 for num in random_numbers if num % 2 == 0]\n",
        "\n",
        "number_square_tuples = [(num, num**2) for num in random_numbers]\n",
        "\n",
        "print(\"Random Numbers:\", random_numbers)\n",
        "print(\"Squares of Even Numbers:\", even_squares)\n",
        "print(\"Number-Square Tuples:\", number_square_tuples)"
      ]
    },
    {
      "cell_type": "markdown",
      "metadata": {
        "id": "jYdOq46NYj3u"
      },
      "source": [
        "### Task 3\n",
        "- Create a dictionary where the keys are numbers from 1 to 5 and the values are list of their squares and cubes.\n",
        "\n",
        "  - **hint**: use dictionary of list comprehension.\n",
        "\n",
        "- Create a dictionary from two lists (one with keys and one with values) using dictionary comprehension.\n",
        "\n"
      ]
    },
    {
      "cell_type": "code",
      "execution_count": 12,
      "metadata": {
        "id": "IEnsiNmCYj3u",
        "colab": {
          "base_uri": "https://localhost:8080/"
        },
        "outputId": "bc0a83da-e77d-4b69-c143-b272b15e119b"
      },
      "outputs": [
        {
          "output_type": "stream",
          "name": "stdout",
          "text": [
            "Dictionary with squares and cubes:\n",
            "{1: [1, 1], 2: [4, 8], 3: [9, 27], 4: [16, 64], 5: [25, 125]}\n",
            "\n",
            "Dictionary from two lists:\n",
            "{'a': 1, 'b': 2, 'c': 3, 'd': 4, 'e': 5}\n"
          ]
        }
      ],
      "source": [
        "#1\n",
        "squares_cubes_dict = {num: [num**2, num**3] for num in range(1, 6)}\n",
        "\n",
        "print(\"Dictionary with squares and cubes:\")\n",
        "print(squares_cubes_dict)\n",
        "\n",
        "#2\n",
        "keys = ['a', 'b', 'c', 'd', 'e']\n",
        "values = [1, 2, 3, 4, 5]\n",
        "\n",
        "key_value_dict = {k: v for k, v in zip(keys, values)}\n",
        "\n",
        "print(\"\\nDictionary from two lists:\")\n",
        "print(key_value_dict)"
      ]
    },
    {
      "cell_type": "markdown",
      "metadata": {
        "id": "6T9TCQ8SYj3v"
      },
      "source": [
        "### Task 4\n",
        "- Given a dictionary where keys are student names and values are lists of their scores, write a function that updates the scores of students who have achieved a perfect score (100) by adding a bonus of 5 points to each score. Use dictionary comprehension to achieve this.\n",
        "\n",
        "    - Implement the function add_bonus_to_perfect_scores(student_scores) that adds a bonus of 5 points to each score of students who have achieved a perfect score (100)."
      ]
    },
    {
      "cell_type": "code",
      "execution_count": 14,
      "metadata": {
        "id": "T3R_VsQpYj3v",
        "colab": {
          "base_uri": "https://localhost:8080/"
        },
        "outputId": "580877d9-a3b9-4a11-852a-36545bb6aaad"
      },
      "outputs": [
        {
          "output_type": "stream",
          "name": "stdout",
          "text": [
            "Updated Scores:\n",
            "Mohammed: [90, 105, 95]\n",
            "Zeyad: [105, 105, 105]\n",
            "Jassar: [85, 90, 105]\n"
          ]
        }
      ],
      "source": [
        "def add_bonus_to_perfect_scores(student_scores):\n",
        "    updated_scores = {name: [(score + 5) if score == 100 else score for score in scores] for name, scores in student_scores.items()}\n",
        "\n",
        "    return updated_scores\n",
        "\n",
        "student_scores = {\n",
        "    \"Mohammed\": [90, 100, 95],\n",
        "    \"Zeyad\": [100, 100, 100],\n",
        "    \"Jassar\": [85, 90, 100]\n",
        "}\n",
        "\n",
        "updated_scores = add_bonus_to_perfect_scores(student_scores)\n",
        "\n",
        "print(\"Updated Scores:\")\n",
        "for name, scores in updated_scores.items():\n",
        "    print(f\"{name}: {scores}\")"
      ]
    }
  ],
  "metadata": {
    "kernelspec": {
      "display_name": "Python 3",
      "language": "python",
      "name": "python3"
    },
    "language_info": {
      "codemirror_mode": {
        "name": "ipython",
        "version": 3
      },
      "file_extension": ".py",
      "mimetype": "text/x-python",
      "name": "python",
      "nbconvert_exporter": "python",
      "pygments_lexer": "ipython3",
      "version": "3.9.12"
    },
    "colab": {
      "provenance": []
    }
  },
  "nbformat": 4,
  "nbformat_minor": 0
}