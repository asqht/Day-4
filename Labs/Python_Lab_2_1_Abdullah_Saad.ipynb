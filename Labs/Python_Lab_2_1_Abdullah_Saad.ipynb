{
  "cells": [
    {
      "cell_type": "markdown",
      "metadata": {
        "id": "x7F-mxeubDUG"
      },
      "source": [
        "# Python_Lab_2.1\n"
      ]
    },
    {
      "cell_type": "markdown",
      "metadata": {
        "id": "14c6Hn1BbDUH"
      },
      "source": [
        "### Task 1\n",
        "1. Write a function named is_prime that takes a number as a parameter and returns True if the number is prime and False otherwise. Print whether the number 29 is prime."
      ]
    },
    {
      "cell_type": "code",
      "execution_count": 6,
      "metadata": {
        "id": "5e_MZEN0bDUI",
        "colab": {
          "base_uri": "https://localhost:8080/"
        },
        "outputId": "ce617712-6049-45c9-dd6b-12e04fc63c3b"
      },
      "outputs": [
        {
          "output_type": "stream",
          "name": "stdout",
          "text": [
            "29 is prime. \n"
          ]
        }
      ],
      "source": [
        "def is_prime(number):\n",
        "  if number <2:\n",
        "    return False\n",
        "  for i in range (2,number):\n",
        "   if number % i == 0 :\n",
        "    return False\n",
        "  return True\n",
        "\n",
        "check_number = 29\n",
        "if is_prime(check_number):\n",
        "  print(f\"{check_number} is prime. \")\n",
        "else:\n",
        "  print(f\"{check_number} is note prime.\")\n",
        "\n"
      ]
    },
    {
      "cell_type": "markdown",
      "metadata": {
        "id": "2zKG8ZcybDUI"
      },
      "source": [
        "### Task 2\n",
        "1. Create a list of 10 numbers and sort them in descending order using the sort() function.\n",
        "2. Use the len() function to print the length of the sorted list.\n",
        "3. Use the zip() function to combine three lists (names, ages, and cities) into a list of tuples.\n",
        "4. Use the range() function to create a list of even numbers from 2 to 20 and print the list."
      ]
    },
    {
      "cell_type": "code",
      "execution_count": 14,
      "metadata": {
        "id": "yyoe__M_bDUI",
        "colab": {
          "base_uri": "https://localhost:8080/"
        },
        "outputId": "e7ef4b27-d5fb-4fed-b766-b1074930c5e8"
      },
      "outputs": [
        {
          "output_type": "stream",
          "name": "stdout",
          "text": [
            "10\n",
            "[('ALi', 12, 'Abha'), ('Mona', 13, 'Jeddah'), ('Fahad', 14, 'Makkah'), ('Asmaa', 15, 'Hail')]\n",
            "[2, 4, 6, 8, 10, 12, 14, 16, 18, 20]\n"
          ]
        }
      ],
      "source": [
        "#1\n",
        "numbers= [23,32,56,65,77,88,99,111,89,98]\n",
        "numbers.sort(reverse=True)\n",
        "\n",
        "#2\n",
        "print(len(numbers))\n",
        "\n",
        "#3\n",
        "names= ['ALi','Mona','Fahad','Asmaa']\n",
        "ages=  [12,13,14,15]\n",
        "cities= ['Abha','Jeddah','Makkah','Hail']\n",
        "\n",
        "Combine_list = list(zip(names,ages,cities))\n",
        "print(Combine_list)\n",
        "\n",
        "#4\n",
        "ev_num =list(range(2,21,2))\n",
        "print(ev_num)\n",
        "\n"
      ]
    },
    {
      "cell_type": "markdown",
      "metadata": {
        "id": "aStW5p7AbDUI"
      },
      "source": [
        "### Task 3\n",
        "Build a phone book program that receives the phone number, and returns the name of the owner.\n",
        "You can follow the table below:\n",
        "\n",
        "| Name     | Number     |\n",
        "| -------- | ---------- |\n",
        "| Amal     | 1111111111 |\n",
        "| Mohammed | 2222222222 |\n",
        "| Khadijah | 3333333333 |\n",
        "| Abdullah | 4444444444 |\n",
        "| Rawan    | 5555555555 |\n",
        "| Faisal   | 6666666666 |\n",
        "| Layla    | 7777777777 |\n",
        "\n",
        "- If the number exists, print the owner. Otherwise, print \"Sorry, the number is not found\".\n",
        "- If the number is less or more than 10 numbers, print \"This is invalid number\".\n",
        "- If the number contains letters or symbols, print \"This is invalid number\".\n"
      ]
    },
    {
      "cell_type": "code",
      "execution_count": 16,
      "metadata": {
        "id": "kvXmjUe-bDUJ",
        "colab": {
          "base_uri": "https://localhost:8080/"
        },
        "outputId": "a447e0fd-5016-486c-c9f4-b481cb0301bc"
      },
      "outputs": [
        {
          "output_type": "stream",
          "name": "stdout",
          "text": [
            "This number 0556677111 for is Fahhad\n",
            "Sorry, the number is not found.\n",
            "This is invaild number.\n",
            "This is invaild number.\n",
            "This is invaild number.\n"
          ]
        }
      ],
      "source": [
        "phone_book= {\n",
        "    \"0556677111\":\"Fahhad\",\n",
        "    \"0556677222\":\"Norah\",\n",
        "    \"0556677333\":\"Saad\",\n",
        "    \"0556677444\":\"Hala\"\n",
        "}\n",
        "\n",
        "def check_phone_number (phone_number):\n",
        "  if not phone_number.isdigit() or len(phone_number) !=10:\n",
        "    print(\"This is invaild number.\")\n",
        "  else:\n",
        "    owner = phone_book.get(phone_number)\n",
        "    if owner :\n",
        "      print(f\"This number {phone_number} for  {owner}\")\n",
        "    else:\n",
        "            print(\"Sorry, the number is not found.\")\n",
        "\n",
        "check_phone_number(\"0556677111\")\n",
        "check_phone_number(\"0556677555\")\n",
        "check_phone_number(\"zero zero\")\n",
        "check_phone_number(\"055667722\")\n",
        "check_phone_number(\"05566774444\")"
      ]
    },
    {
      "cell_type": "markdown",
      "metadata": {
        "id": "exLHQ28nbDUJ"
      },
      "source": [
        "### Task 4\n",
        "- Given the following list : [5, 4, 17, 19, 30, 2, 7, 10, 45]\n",
        "    1. Use a lambda function to filter out only the odd numbers.\n",
        "    2. Print the new list of odd numbers."
      ]
    },
    {
      "cell_type": "code",
      "execution_count": 15,
      "metadata": {
        "id": "64SUsh1cbDUJ",
        "colab": {
          "base_uri": "https://localhost:8080/"
        },
        "outputId": "ebd526f3-4c50-4685-e1a0-8a6a95462b0f"
      },
      "outputs": [
        {
          "output_type": "stream",
          "name": "stdout",
          "text": [
            "[5, 17, 19, 7, 45]\n"
          ]
        }
      ],
      "source": [
        "numbers = [5, 4, 17, 19, 30, 2, 7, 10, 45]\n",
        "\n",
        "odd_numbers = list(filter(lambda x : x % 2 !=0, numbers))\n",
        "\n",
        "print(odd_numbers)"
      ]
    }
  ],
  "metadata": {
    "kernelspec": {
      "display_name": "Python 3",
      "language": "python",
      "name": "python3"
    },
    "language_info": {
      "codemirror_mode": {
        "name": "ipython",
        "version": 3
      },
      "file_extension": ".py",
      "mimetype": "text/x-python",
      "name": "python",
      "nbconvert_exporter": "python",
      "pygments_lexer": "ipython3",
      "version": "3.9.12"
    },
    "colab": {
      "provenance": []
    }
  },
  "nbformat": 4,
  "nbformat_minor": 0
}